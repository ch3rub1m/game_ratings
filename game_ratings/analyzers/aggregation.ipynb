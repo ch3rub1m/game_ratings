{
 "cells": [
  {
   "cell_type": "code",
   "execution_count": 2,
   "source": [
    "import os\n",
    "import pandas as pd\n",
    "from IPython.display import display\n",
    "\n",
    "pd.options.display.max_rows = 1000\n",
    "home = os.path.expanduser('~')\n",
    "path = f'{home}/Documents'\n",
    "\n",
    "df_metacritic = pd.read_csv(f'{path}/metacritic-must-play.csv')\n",
    "display(len(df_metacritic))\n",
    "df_famitsu = pd.read_csv(f'{path}/famitsu-platinum.csv')\n",
    "df_famitsu['mustplay'] = 'Platinum'\n",
    "display(len(df_famitsu))\n",
    "df = pd.concat([df_metacritic, df_famitsu]).set_index(['date'])\n",
    "display(len(df))\n",
    "df.sort_index().to_csv(f'{path}/game-timeline.csv')"
   ],
   "outputs": [
    {
     "output_type": "display_data",
     "data": {
      "text/plain": [
       "538"
      ]
     },
     "metadata": {}
    },
    {
     "output_type": "display_data",
     "data": {
      "text/plain": [
       "1368"
      ]
     },
     "metadata": {}
    },
    {
     "output_type": "display_data",
     "data": {
      "text/plain": [
       "1906"
      ]
     },
     "metadata": {}
    }
   ],
   "metadata": {}
  }
 ],
 "metadata": {
  "orig_nbformat": 4,
  "language_info": {
   "name": "python",
   "version": "3.9.2",
   "mimetype": "text/x-python",
   "codemirror_mode": {
    "name": "ipython",
    "version": 3
   },
   "pygments_lexer": "ipython3",
   "nbconvert_exporter": "python",
   "file_extension": ".py"
  },
  "kernelspec": {
   "name": "python3",
   "display_name": "Python 3.9.2 64-bit ('.venv': poetry)"
  },
  "interpreter": {
   "hash": "3bfdea9b74d57eccf6125e050dcedb4f95ceefd221334a47f2fb8f4d18818fd1"
  }
 },
 "nbformat": 4,
 "nbformat_minor": 2
}