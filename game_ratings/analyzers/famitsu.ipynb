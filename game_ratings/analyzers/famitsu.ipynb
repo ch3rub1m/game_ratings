{
 "cells": [
  {
   "cell_type": "code",
   "execution_count": 1,
   "source": [
    "import os\n",
    "import pandas as pd\n",
    "import numpy as np\n",
    "from IPython.display import display\n",
    "\n",
    "pd.options.display.max_rows = 1000\n",
    "home = os.path.expanduser('~')\n",
    "path = f'{home}/Documents'\n",
    "\n",
    "df_game_mein = pd.read_csv(f'{path}/game_mein.csv')\n",
    "# removes dirty data from game_mein\n",
    "df_game_mein = df_game_mein.drop_duplicates(subset=['title', 'platform'])\n",
    "\n",
    "df_soft_db = pd.read_csv(f'{path}/soft_db.csv')\n",
    "\n",
    "df_fixed_rating = pd.read_csv('./famitsu_fixed_ratings.csv')\n",
    "\n",
    "# fixes inaccurate data\n",
    "df = pd.concat([df_game_mein, df_soft_db, df_fixed_rating]).drop_duplicates(subset=['title', 'platform'], keep='last').set_index(['date'])\n",
    "\n",
    "df = df[df.score >= 35]\n",
    "\n",
    "df.sort_index().to_csv(f'{path}/famitsu-platinum.csv')\n",
    "df.groupby(['score']).count().sort_index(ascending=False)"
   ],
   "outputs": [
    {
     "output_type": "execute_result",
     "data": {
      "text/plain": [
       "       title  platform\n",
       "score                 \n",
       "40        38        38\n",
       "39        76        76\n",
       "38       121       121\n",
       "37       230       230\n",
       "36       426       426\n",
       "35       477       477"
      ],
      "text/html": [
       "<div>\n",
       "<style scoped>\n",
       "    .dataframe tbody tr th:only-of-type {\n",
       "        vertical-align: middle;\n",
       "    }\n",
       "\n",
       "    .dataframe tbody tr th {\n",
       "        vertical-align: top;\n",
       "    }\n",
       "\n",
       "    .dataframe thead th {\n",
       "        text-align: right;\n",
       "    }\n",
       "</style>\n",
       "<table border=\"1\" class=\"dataframe\">\n",
       "  <thead>\n",
       "    <tr style=\"text-align: right;\">\n",
       "      <th></th>\n",
       "      <th>title</th>\n",
       "      <th>platform</th>\n",
       "    </tr>\n",
       "    <tr>\n",
       "      <th>score</th>\n",
       "      <th></th>\n",
       "      <th></th>\n",
       "    </tr>\n",
       "  </thead>\n",
       "  <tbody>\n",
       "    <tr>\n",
       "      <th>40</th>\n",
       "      <td>38</td>\n",
       "      <td>38</td>\n",
       "    </tr>\n",
       "    <tr>\n",
       "      <th>39</th>\n",
       "      <td>76</td>\n",
       "      <td>76</td>\n",
       "    </tr>\n",
       "    <tr>\n",
       "      <th>38</th>\n",
       "      <td>121</td>\n",
       "      <td>121</td>\n",
       "    </tr>\n",
       "    <tr>\n",
       "      <th>37</th>\n",
       "      <td>230</td>\n",
       "      <td>230</td>\n",
       "    </tr>\n",
       "    <tr>\n",
       "      <th>36</th>\n",
       "      <td>426</td>\n",
       "      <td>426</td>\n",
       "    </tr>\n",
       "    <tr>\n",
       "      <th>35</th>\n",
       "      <td>477</td>\n",
       "      <td>477</td>\n",
       "    </tr>\n",
       "  </tbody>\n",
       "</table>\n",
       "</div>"
      ]
     },
     "metadata": {},
     "execution_count": 1
    }
   ],
   "metadata": {}
  }
 ],
 "metadata": {
  "orig_nbformat": 4,
  "language_info": {
   "name": "python",
   "version": "3.9.2",
   "mimetype": "text/x-python",
   "codemirror_mode": {
    "name": "ipython",
    "version": 3
   },
   "pygments_lexer": "ipython3",
   "nbconvert_exporter": "python",
   "file_extension": ".py"
  },
  "kernelspec": {
   "name": "python3",
   "display_name": "Python 3.9.2 64-bit ('.venv': poetry)"
  },
  "interpreter": {
   "hash": "3bfdea9b74d57eccf6125e050dcedb4f95ceefd221334a47f2fb8f4d18818fd1"
  }
 },
 "nbformat": 4,
 "nbformat_minor": 2
}